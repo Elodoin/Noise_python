{
 "cells": [
  {
   "cell_type": "markdown",
   "metadata": {},
   "source": [
    "# Tutorials on running NoisePy package (https://github.com/mdenolle/NoisePy)."
   ]
  },
  {
   "cell_type": "code",
   "execution_count": null,
   "metadata": {},
   "outputs": [],
   "source": [
    "NoisePy package is designed for the high-demand of fast computation of ambient noise cross-correlation functions in \n",
    "seismological community due to the fast growth of seismic data and computational improvement. In general, the package\n",
    "consists of three scripts, which are the downloading script (S0_dowload_ASDF_MPI.py), script to do FFT and cross-\n",
    "correlations (S1_fft_cc_ASDF_MPI.py) and a stacking script (S2_stacking.py)."
   ]
  },
  {
   "cell_type": "code",
   "execution_count": null,
   "metadata": {},
   "outputs": [],
   "source": [
    "\n"
   ]
  },
  {
   "cell_type": "code",
   "execution_count": null,
   "metadata": {},
   "outputs": [],
   "source": []
  }
 ],
 "metadata": {
  "kernelspec": {
   "display_name": "Python 3",
   "language": "python",
   "name": "python3"
  },
  "language_info": {
   "codemirror_mode": {
    "name": "ipython",
    "version": 3
   },
   "file_extension": ".py",
   "mimetype": "text/x-python",
   "name": "python",
   "nbconvert_exporter": "python",
   "pygments_lexer": "ipython3",
   "version": "3.7.3"
  }
 },
 "nbformat": 4,
 "nbformat_minor": 2
}
